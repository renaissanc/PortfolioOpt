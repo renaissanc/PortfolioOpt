{
 "cells": [
  {
   "cell_type": "code",
   "execution_count": null,
   "id": "2377518a",
   "metadata": {},
   "outputs": [],
   "source": [
    "import pandas as pd\n",
    "import numpy as np\n",
    "import matplotlib.pyplot as plt\n",
    "import seaborn as sns\n",
    "import yfinance as yf\n",
    "import scipy.stats"
   ]
  },
  {
   "cell_type": "code",
   "execution_count": null,
   "id": "7f3d38bc",
   "metadata": {},
   "outputs": [],
   "source": [
    "ticker_symbol = 'AAPL'\n",
    "AAPL = yf.download(ticker_symbol, start = '2022-01-01', end = '2022-12-31')\n",
    "#AAPL = pd.DataFrame(stock_data)\n",
    "\n",
    "ticker_symbol = 'MSFT'\n",
    "MSFT = yf.download(ticker_symbol, start = '2022-01-01', end = '2022-12-31')\n",
    "#MSFT = pd.DataFrame(stock_data)\n",
    "\n",
    "ticker_symbol = 'JPM'\n",
    "JPM = yf.download(ticker_symbol, start = '2022-01-01', end = '2022-12-31')\n",
    "#JPM = pd.DataFrame(stock_data)\n",
    "\n",
    "ticker_symbol = 'TSLA'\n",
    "TSLA = yf.download(ticker_symbol, start = '2022-01-01', end = '2022-12-31')\n",
    "#TSLA = pd.DataFrame(stock_data)\n"
   ]
  },
  {
   "cell_type": "code",
   "execution_count": null,
   "id": "63399256",
   "metadata": {},
   "outputs": [],
   "source": [
    "AAPL"
   ]
  },
  {
   "cell_type": "code",
   "execution_count": null,
   "id": "1b3c6202",
   "metadata": {},
   "outputs": [],
   "source": [
    "MSFT"
   ]
  },
  {
   "cell_type": "code",
   "execution_count": null,
   "id": "59e4c2f4",
   "metadata": {},
   "outputs": [],
   "source": [
    "JPM"
   ]
  },
  {
   "cell_type": "code",
   "execution_count": null,
   "id": "df14f160",
   "metadata": {},
   "outputs": [],
   "source": [
    "TSLA"
   ]
  },
  {
   "cell_type": "code",
   "execution_count": null,
   "id": "32dd85c3",
   "metadata": {},
   "outputs": [],
   "source": [
    "AAPL = AAPL.drop(columns=['Volume','Open', 'High', 'Low', 'Close'])\n",
    "MSFT = MSFT.drop(columns=['Volume','Open', 'High', 'Low', 'Close'])\n",
    "JPM = JPM.drop(columns=['Volume','Open', 'High', 'Low', 'Close'])\n",
    "TSLA = TSLA.drop(columns=['Volume','Open', 'High', 'Low', 'Close'])"
   ]
  },
  {
   "cell_type": "code",
   "execution_count": null,
   "id": "ab206bac",
   "metadata": {},
   "outputs": [],
   "source": [
    "AAPL"
   ]
  },
  {
   "cell_type": "code",
   "execution_count": null,
   "id": "299f38d6",
   "metadata": {},
   "outputs": [],
   "source": [
    "MSFT"
   ]
  },
  {
   "cell_type": "code",
   "execution_count": null,
   "id": "e7791550",
   "metadata": {},
   "outputs": [],
   "source": [
    "JPM"
   ]
  },
  {
   "cell_type": "code",
   "execution_count": null,
   "id": "5ecd85d7",
   "metadata": {},
   "outputs": [],
   "source": [
    "TSLA"
   ]
  },
  {
   "cell_type": "code",
   "execution_count": null,
   "id": "e8f30e59",
   "metadata": {},
   "outputs": [],
   "source": [
    "plt.style.use('dark_background')\n",
    "fig, ax = plt.subplots()\n",
    "\n",
    "ax.plot(AAPL['Adj Close'], label='AAPL')\n",
    "ax.plot(MSFT['Adj Close'], label='MSFT')\n",
    "ax.plot(JPM['Adj Close'], label='JPM')\n",
    "ax.plot(TSLA['Adj Close'], label='TSLA')\n",
    "\n",
    "fig.patch.set_facecolor('#1e1e1e')\n",
    "ax.set_facecolor('#2b2b2b')\n",
    "\n",
    "ax.grid(color='gray', linestyle='--', linewidth=0.5)\n",
    "\n",
    "ax.spines['bottom'].set_color('white')\n",
    "ax.spines['top'].set_color('white')\n",
    "ax.spines['left'].set_color('white')\n",
    "ax.spines['right'].set_color('white')\n",
    "\n",
    "ax.tick_params(axis='x', colors='white')\n",
    "ax.tick_params(axis='y', colors='white')\n",
    "\n",
    "ax.set_xlabel('Time Series', color='white')\n",
    "ax.set_ylabel('Price', color='white')\n",
    "ax.set_title('Plotting Price Charts', color='white')\n",
    "\n",
    "legend = ax.legend()\n",
    "frame = legend.get_frame()\n",
    "frame.set_facecolor('#1e1e1e')  # Set the legend background color\n",
    "frame.set_edgecolor('white')  # Set the legend border color\n",
    "for text in legend.get_texts():\n",
    "    text.set_color('white')  # Set the legend text color\n",
    "\n",
    "ax.axis('auto')\n",
    "plt.show()"
   ]
  },
  {
   "cell_type": "code",
   "execution_count": null,
   "id": "f8f30410",
   "metadata": {},
   "outputs": [],
   "source": [
    "AAPL['Pct_Change'] = AAPL['Adj Close'].pct_change() * 100\n",
    "MSFT['Pct_Change'] = MSFT['Adj Close'].pct_change() * 100\n",
    "JPM['Pct_Change'] = JPM['Adj Close'].pct_change() * 100\n",
    "TSLA['Pct_Change'] = TSLA['Adj Close'].pct_change() * 100"
   ]
  },
  {
   "cell_type": "code",
   "execution_count": null,
   "id": "3b4a3f9f",
   "metadata": {},
   "outputs": [],
   "source": [
    "AAPL"
   ]
  },
  {
   "cell_type": "code",
   "execution_count": null,
   "id": "fe004936",
   "metadata": {},
   "outputs": [],
   "source": [
    "MSFT"
   ]
  },
  {
   "cell_type": "code",
   "execution_count": null,
   "id": "01bcd5c5",
   "metadata": {},
   "outputs": [],
   "source": [
    "JPM"
   ]
  },
  {
   "cell_type": "code",
   "execution_count": null,
   "id": "39f82a68",
   "metadata": {},
   "outputs": [],
   "source": [
    "TSLA"
   ]
  },
  {
   "cell_type": "code",
   "execution_count": null,
   "id": "a038615b",
   "metadata": {},
   "outputs": [],
   "source": [
    "fig, ax = plt.subplots()\n",
    "\n",
    "ax.plot(AAPL['Pct_Change'], label='AAPL')\n",
    "ax.plot(MSFT['Pct_Change'], label='MSFT')\n",
    "ax.plot(JPM['Pct_Change'], label='JPM')\n",
    "ax.plot(TSLA['Pct_Change'], label='TSLA')\n",
    "\n",
    "fig.patch.set_facecolor('#1e1e1e')\n",
    "ax.set_facecolor('#2b2b2b')\n",
    "\n",
    "ax.grid(color='gray', linestyle='--', linewidth=0.5)\n",
    "\n",
    "# Customize the spines (axis borders)\n",
    "ax.spines['bottom'].set_color('white')\n",
    "ax.spines['top'].set_color('white')\n",
    "ax.spines['left'].set_color('white')\n",
    "ax.spines['right'].set_color('white')\n",
    "\n",
    "# Customize the ticks\n",
    "ax.tick_params(axis='x', colors='white')\n",
    "ax.tick_params(axis='y', colors='white')\n",
    "\n",
    "ax.set_xlabel('Time Series', color='white')\n",
    "ax.set_ylabel('Price', color='white')\n",
    "ax.set_title('Plotting Price Charts', color='white')\n",
    "\n",
    "legend = ax.legend()\n",
    "frame = legend.get_frame()\n",
    "frame.set_facecolor('#1e1e1e')  # Set the legend background color\n",
    "frame.set_edgecolor('white')  # Set the legend border color\n",
    "for text in legend.get_texts():\n",
    "    text.set_color('white')  # Set the legend text color\n",
    "\n",
    "ax.axis('auto')\n",
    "\n",
    "plt.show()"
   ]
  },
  {
   "cell_type": "code",
   "execution_count": null,
   "id": "165e619b",
   "metadata": {},
   "outputs": [],
   "source": [
    "AAPL['Cumulative_Pct_Change'] = (1 + AAPL['Adj Close'].pct_change()).cumprod() - 1\n",
    "AAPL['Cumulative_Pct_Change'] = AAPL['Cumulative_Pct_Change'] * 100\n",
    "\n",
    "MSFT['Cumulative_Pct_Change'] = (1 + MSFT['Adj Close'].pct_change()).cumprod() - 1\n",
    "MSFT['Cumulative_Pct_Change'] = MSFT['Cumulative_Pct_Change'] * 100\n",
    "\n",
    "JPM['Cumulative_Pct_Change'] = (1 + JPM['Adj Close'].pct_change()).cumprod() - 1\n",
    "JPM['Cumulative_Pct_Change'] = JPM['Cumulative_Pct_Change'] * 100\n",
    "\n",
    "TSLA['Cumulative_Pct_Change'] = (1 + TSLA['Adj Close'].pct_change()).cumprod() - 1\n",
    "TSLA['Cumulative_Pct_Change'] = TSLA['Cumulative_Pct_Change'] * 100\n"
   ]
  },
  {
   "cell_type": "code",
   "execution_count": null,
   "id": "4f253bd0",
   "metadata": {},
   "outputs": [],
   "source": [
    "AAPL"
   ]
  },
  {
   "cell_type": "code",
   "execution_count": null,
   "id": "663e6d60",
   "metadata": {},
   "outputs": [],
   "source": [
    "MSFT"
   ]
  },
  {
   "cell_type": "code",
   "execution_count": null,
   "id": "a59cdc22",
   "metadata": {},
   "outputs": [],
   "source": [
    "JPM"
   ]
  },
  {
   "cell_type": "code",
   "execution_count": null,
   "id": "1cef054c",
   "metadata": {},
   "outputs": [],
   "source": [
    "TSLA"
   ]
  },
  {
   "cell_type": "code",
   "execution_count": null,
   "id": "63e665e7",
   "metadata": {},
   "outputs": [],
   "source": [
    "fig, ax = plt.subplots()\n",
    "\n",
    "ax.plot(AAPL['Cumulative_Pct_Change'], label='AAPL')\n",
    "ax.plot(MSFT['Cumulative_Pct_Change'], label='MSFT')\n",
    "ax.plot(JPM['Cumulative_Pct_Change'], label='JPM')\n",
    "ax.plot(TSLA['Cumulative_Pct_Change'], label='TSLA')\n",
    "\n",
    "fig.patch.set_facecolor('#1e1e1e')\n",
    "ax.set_facecolor('#2b2b2b')\n",
    "\n",
    "ax.grid(color='gray', linestyle='--', linewidth=0.5)\n",
    "# Customize the spines (axis borders)\n",
    "ax.spines['bottom'].set_color('white')\n",
    "ax.spines['top'].set_color('white')\n",
    "ax.spines['left'].set_color('white')\n",
    "ax.spines['right'].set_color('white')\n",
    "# Customize the ticks\n",
    "ax.tick_params(axis='x', colors='white')\n",
    "ax.tick_params(axis='y', colors='white')\n",
    "# Customize the labels and title\n",
    "ax.set_xlabel('Time Series', color='white')\n",
    "ax.set_ylabel('Price', color='white')\n",
    "ax.set_title('Plotting Price Charts', color='white')\n",
    "\n",
    "# Customize the legend\n",
    "legend = ax.legend()\n",
    "frame = legend.get_frame()\n",
    "frame.set_facecolor('#1e1e1e')  # Set the legend background color\n",
    "frame.set_edgecolor('white')  # Set the legend border color\n",
    "for text in legend.get_texts():\n",
    "    text.set_color('white')  # Set the legend text color\n",
    "    \n",
    "ax.axis('auto')\n",
    "\n",
    "plt.show()"
   ]
  },
  {
   "cell_type": "code",
   "execution_count": null,
   "id": "c74688fd",
   "metadata": {},
   "outputs": [],
   "source": [
    "AAPL = AAPL.dropna()\n",
    "MSFT = MSFT.dropna()\n",
    "JPM = JPM.dropna()\n",
    "TSLA = TSLA.dropna()"
   ]
  },
  {
   "cell_type": "code",
   "execution_count": null,
   "id": "a530e2cb",
   "metadata": {},
   "outputs": [],
   "source": [
    "AAPL"
   ]
  },
  {
   "cell_type": "code",
   "execution_count": null,
   "id": "879c5aa0",
   "metadata": {},
   "outputs": [],
   "source": [
    "MSFT"
   ]
  },
  {
   "cell_type": "code",
   "execution_count": null,
   "id": "a785ee1d",
   "metadata": {},
   "outputs": [],
   "source": [
    "JPM"
   ]
  },
  {
   "cell_type": "code",
   "execution_count": null,
   "id": "65983e1c",
   "metadata": {},
   "outputs": [],
   "source": [
    "TSLA"
   ]
  },
  {
   "cell_type": "code",
   "execution_count": null,
   "id": "f2b7fe48",
   "metadata": {},
   "outputs": [],
   "source": [
    "len(AAPL)"
   ]
  },
  {
   "cell_type": "code",
   "execution_count": null,
   "id": "c11c6ff2",
   "metadata": {},
   "outputs": [],
   "source": [
    "len(MSFT)"
   ]
  },
  {
   "cell_type": "code",
   "execution_count": null,
   "id": "cb068673",
   "metadata": {},
   "outputs": [],
   "source": [
    "len(JPM)"
   ]
  },
  {
   "cell_type": "code",
   "execution_count": null,
   "id": "70cbac41",
   "metadata": {},
   "outputs": [],
   "source": [
    "len(TSLA)"
   ]
  },
  {
   "cell_type": "code",
   "execution_count": null,
   "id": "806143df",
   "metadata": {},
   "outputs": [],
   "source": [
    "AAPL_mean = AAPL['Pct_Change'].mean()\n",
    "AAPL_median = AAPL['Pct_Change'].median()\n",
    "AAPL_variance = AAPL['Pct_Change'].var()\n",
    "AAPL_std_dev = AAPL['Pct_Change'].std()\n",
    "\n",
    "print(f'AAPL percentage mean: {AAPL_mean}')\n",
    "print(f'AAPL percentage Median: {AAPL_median}')\n",
    "print(f'AAPL percentage Variance: {AAPL_variance}')\n",
    "print(f'AAPL percentage Standard: {AAPL_std_dev} \\n')\n",
    "\n",
    "MSFT_mean = MSFT['Pct_Change'].mean()\n",
    "MSFT_median = MSFT['Pct_Change'].median()\n",
    "MSFT_variance = MSFT['Pct_Change'].var()\n",
    "MSFT_std_dev = MSFT['Pct_Change'].std()\n",
    "\n",
    "print(f'AAPL percentage mean: {MSFT_mean}')\n",
    "print(f'AAPL percentage Median: {MSFT_median}')\n",
    "print(f'AAPL percentage Variance: {MSFT_variance}')\n",
    "print(f'AAPL percentage Standard: {MSFT_std_dev} \\n')\n",
    "\n",
    "JPM_mean = JPM['Pct_Change'].mean()\n",
    "JPM_median = JPM['Pct_Change'].median()\n",
    "JPM_variance = JPM['Pct_Change'].var()\n",
    "JPM_std_dev = JPM['Pct_Change'].std()\n",
    "\n",
    "print(f'JPM percentage mean: {JPM_mean}')\n",
    "print(f'JPM percentage Median: {JPM_median}')\n",
    "print(f'JPM percentage Variance: {JPM_variance}')\n",
    "print(f'JPM percentage Standard: {JPM_std_dev} \\n')\n",
    "\n",
    "TSLA_mean = TSLA['Pct_Change'].mean()\n",
    "TSLA_median = TSLA['Pct_Change'].median()\n",
    "TSLA_variance = TSLA['Pct_Change'].var()\n",
    "TSLA_std_dev = TSLA['Pct_Change'].std()\n",
    "\n",
    "print(f'TSLA percentage mean: {TSLA_mean}')\n",
    "print(f'TSLA percentage Median: {TSLA_median}')\n",
    "print(f'TSLA percentage Variance: {TSLA_variance}')\n",
    "print(f'TSLA percentage Standard: {TSLA_std_dev} \\n')\n"
   ]
  },
  {
   "cell_type": "code",
   "execution_count": null,
   "id": "965f2ca1",
   "metadata": {},
   "outputs": [],
   "source": [
    "def compute_sharp_ratio(df,risk_free_rate=0):\n",
    "    mean_return = df['Pct_Change'].mean()\n",
    "    std = df['Pct_Change'].std()\n",
    "    \n",
    "    sharp_ratio = (mean_return - risk_free_rate)/std\n",
    "    sharp_ratio = sharp_ratio * np.sqrt(252)\n",
    "    \n",
    "    return sharp_ratio"
   ]
  },
  {
   "cell_type": "code",
   "execution_count": null,
   "id": "41d98f76",
   "metadata": {},
   "outputs": [],
   "source": [
    "sr_ratio_AAPL = compute_sharp_ratio(AAPL)\n",
    "sr_ratio_AAPL"
   ]
  },
  {
   "cell_type": "code",
   "execution_count": null,
   "id": "659bb0c2",
   "metadata": {},
   "outputs": [],
   "source": [
    "sr_ratio_MSFT = compute_sharp_ratio(MSFT)\n",
    "sr_ratio_MSFT"
   ]
  },
  {
   "cell_type": "code",
   "execution_count": null,
   "id": "802dbac3",
   "metadata": {},
   "outputs": [],
   "source": [
    "sr_ratio_JPM = compute_sharp_ratio(JPM)\n",
    "sr_ratio_JPM"
   ]
  },
  {
   "cell_type": "code",
   "execution_count": null,
   "id": "d0a289e2",
   "metadata": {},
   "outputs": [],
   "source": [
    "sr_ratio_TSLA = compute_sharp_ratio(TSLA)\n",
    "sr_ratio_TSLA"
   ]
  },
  {
   "cell_type": "code",
   "execution_count": null,
   "id": "4e58d253",
   "metadata": {},
   "outputs": [],
   "source": [
    "matrix = [sr_ratio_AAPL, sr_ratio_MSFT, sr_ratio_JPM, sr_ratio_TSLA]"
   ]
  },
  {
   "cell_type": "code",
   "execution_count": null,
   "id": "990b6689",
   "metadata": {},
   "outputs": [],
   "source": [
    "matrix_f = np.array(matrix).reshape(2, 2)"
   ]
  },
  {
   "cell_type": "code",
   "execution_count": null,
   "id": "ec0e2c74",
   "metadata": {},
   "outputs": [],
   "source": [
    "sns.heatmap(matrix_f, annot=True, cmap='viridis')\n",
    "plt.title('Heatmap')\n",
    "plt.show()"
   ]
  },
  {
   "cell_type": "code",
   "execution_count": null,
   "id": "3eca3c5a",
   "metadata": {},
   "outputs": [],
   "source": [
    "def compute_sortino_ratio(df,risk_free_rate=0,threshold=0):\n",
    "    mean_return = df['Pct_Change'].mean()\n",
    "    downside = df[df['Pct_Change']<threshold]['Pct_Change']\n",
    "    \n",
    "    std = downside.std()\n",
    "    \n",
    "    sortino_ratio = (mean_return - risk_free_rate)/std\n",
    "    sortino_ratio = sortino_ratio * np.sqrt(252)\n",
    "    \n",
    "    return sortino_ratio"
   ]
  },
  {
   "cell_type": "code",
   "execution_count": null,
   "id": "3132e82f",
   "metadata": {},
   "outputs": [],
   "source": [
    "srt_ratio_AAPL = compute_sortino_ratio(AAPL)\n",
    "srt_ratio_AAPL"
   ]
  },
  {
   "cell_type": "code",
   "execution_count": null,
   "id": "74dcb7ec",
   "metadata": {},
   "outputs": [],
   "source": [
    "srt_ratio_MSFT = compute_sortino_ratio(MSFT)\n",
    "srt_ratio_MSFT"
   ]
  },
  {
   "cell_type": "code",
   "execution_count": null,
   "id": "f864382a",
   "metadata": {},
   "outputs": [],
   "source": [
    "srt_ratio_JPM = compute_sortino_ratio(JPM)\n",
    "srt_ratio_JPM"
   ]
  },
  {
   "cell_type": "code",
   "execution_count": null,
   "id": "80ade851",
   "metadata": {},
   "outputs": [],
   "source": [
    "srt_ratio_TSLA = compute_sortino_ratio(TSLA)\n",
    "srt_ratio_TSLA"
   ]
  },
  {
   "cell_type": "code",
   "execution_count": null,
   "id": "6ecb33e7",
   "metadata": {},
   "outputs": [],
   "source": [
    "def compute_psr(df,benchmark=0):\n",
    "    sr = compute_sharp_ratio(df)/np.sqrt(252)\n",
    "    skew = scipy.stats.skew(df['Pct_Change'])\n",
    "    kurtosis = scipy.stats.kurtosis(df['Pct_Change'],fisher=True)\n",
    "    n = len(df)\n",
    "    \n",
    "    sigma_sr = ((1/(n-1)) * (1 + 0.5*sr**2 + skew * sr + (kurtosis/4) * sr**2) )**0.5\n",
    "    ratio = (sr-benchmark)/sigma_sr\n",
    "    \n",
    "    psr = scipy.stats.norm.cdf(ratio)\n",
    "    \n",
    "    return psr"
   ]
  },
  {
   "cell_type": "code",
   "execution_count": null,
   "id": "9b012b16",
   "metadata": {},
   "outputs": [],
   "source": [
    "compute_psr(AAPL)"
   ]
  },
  {
   "cell_type": "code",
   "execution_count": null,
   "id": "2040951f",
   "metadata": {},
   "outputs": [],
   "source": [
    "compute_psr(MSFT)"
   ]
  },
  {
   "cell_type": "code",
   "execution_count": null,
   "id": "71b61fbc",
   "metadata": {},
   "outputs": [],
   "source": [
    "compute_psr(JPM)"
   ]
  },
  {
   "cell_type": "code",
   "execution_count": null,
   "id": "baec873c",
   "metadata": {},
   "outputs": [],
   "source": [
    "compute_psr(TSLA)"
   ]
  },
  {
   "cell_type": "code",
   "execution_count": null,
   "id": "cf061b3f",
   "metadata": {},
   "outputs": [],
   "source": [
    "Pure_Pct_Returns = pd.concat([AAPL['Pct_Change'],MSFT['Pct_Change'],JPM['Pct_Change'],TSLA['Pct_Change']],axis=1)\n",
    "Pure_Pct_Returns.columns = ['AAPL','MSFT','JPM','TSLA']"
   ]
  },
  {
   "cell_type": "code",
   "execution_count": null,
   "id": "29dac35a",
   "metadata": {},
   "outputs": [],
   "source": [
    "Pure_Pct_Returns"
   ]
  },
  {
   "cell_type": "code",
   "execution_count": null,
   "id": "0650c00f",
   "metadata": {},
   "outputs": [],
   "source": [
    "Pure_Returns = pd.concat([AAPL['Adj Close'],MSFT['Adj Close'],JPM['Adj Close'],TSLA['Adj Close']],axis=1)\n",
    "Pure_Returns.columns = ['AAPL','MSFT','JPM','TSLA']"
   ]
  },
  {
   "cell_type": "code",
   "execution_count": null,
   "id": "7194d60f",
   "metadata": {},
   "outputs": [],
   "source": [
    "Pure_Returns"
   ]
  },
  {
   "cell_type": "code",
   "execution_count": null,
   "id": "cee96e4f",
   "metadata": {},
   "outputs": [],
   "source": [
    "Pure_Cum_Returns = pd.concat([AAPL['Cumulative_Pct_Change'],MSFT['Cumulative_Pct_Change'],JPM['Cumulative_Pct_Change'],TSLA['Cumulative_Pct_Change']],axis=1)\n",
    "Pure_Cum_Returns.columns = ['AAPL','MSFT','JPM','TSLA']"
   ]
  },
  {
   "cell_type": "code",
   "execution_count": null,
   "id": "a1f811da",
   "metadata": {
    "scrolled": true
   },
   "outputs": [],
   "source": [
    "Pure_Cum_Returns"
   ]
  },
  {
   "cell_type": "code",
   "execution_count": null,
   "id": "0f142420",
   "metadata": {},
   "outputs": [],
   "source": [
    "test = np.array([0,1,0,0])"
   ]
  },
  {
   "cell_type": "code",
   "execution_count": null,
   "id": "53a24eba",
   "metadata": {},
   "outputs": [],
   "source": [
    "np.dot(test, Pure_Cum_Returns.transpose())"
   ]
  },
  {
   "cell_type": "code",
   "execution_count": null,
   "id": "e465a472",
   "metadata": {},
   "outputs": [],
   "source": [
    "Pure_Returns"
   ]
  },
  {
   "cell_type": "code",
   "execution_count": null,
   "id": "19f59be8",
   "metadata": {},
   "outputs": [],
   "source": [
    "log_rets = np.log(Pure_Returns/Pure_Returns.shift(1))"
   ]
  },
  {
   "cell_type": "code",
   "execution_count": null,
   "id": "26a5054f",
   "metadata": {},
   "outputs": [],
   "source": [
    "def gen_weights(N):\n",
    "    weights = np.random.random(N)\n",
    "    return weights/np.sum(weights)"
   ]
  },
  {
   "cell_type": "code",
   "execution_count": null,
   "id": "a6301ebc",
   "metadata": {},
   "outputs": [],
   "source": [
    "No_Of_Comp = len(Pure_Returns.columns)"
   ]
  },
  {
   "cell_type": "code",
   "execution_count": null,
   "id": "d5e18c0d",
   "metadata": {},
   "outputs": [],
   "source": [
    "log_rets.mean()"
   ]
  },
  {
   "cell_type": "code",
   "execution_count": null,
   "id": "d4f5d6c5",
   "metadata": {},
   "outputs": [],
   "source": [
    "def calc_rets(weights,log_rets):\n",
    "    return np.sum(log_rets.mean()*weights) * 252"
   ]
  },
  {
   "cell_type": "code",
   "execution_count": null,
   "id": "564b95e6",
   "metadata": {},
   "outputs": [],
   "source": [
    "log_rets.cov()"
   ]
  },
  {
   "cell_type": "code",
   "execution_count": null,
   "id": "3077d25a",
   "metadata": {},
   "outputs": [],
   "source": [
    "def calc_volatility(weights,log_rets_cov):   ###########################################################################\n",
    "    annualized_cov = np.dot(log_rets_cov*252,weights)\n",
    "    vol = np.dot(weights.transpose(),annualized_cov)\n",
    "    return np.sqrt(vol)"
   ]
  },
  {
   "cell_type": "code",
   "execution_count": null,
   "id": "a8d14e39",
   "metadata": {},
   "outputs": [],
   "source": [
    "log_rets_cov = log_rets.cov()"
   ]
  },
  {
   "cell_type": "code",
   "execution_count": null,
   "id": "5246ed6f",
   "metadata": {},
   "outputs": [],
   "source": [
    "mc_portfolio_returns = []    \n",
    "mc_portfolio_vol = []\n",
    "mc_weights = []\n",
    "\n",
    "for sim in range(3000):\n",
    "    \n",
    "    weights = gen_weights(N=No_Of_Comp)\n",
    "    mc_weights.append(weights)\n",
    "    sim_rets = calc_rets(weights,log_rets)\n",
    "    mc_portfolio_returns.append(sim_rets)\n",
    "    sim_vol = calc_volatility(weights,log_rets_cov)\n",
    "    mc_portfolio_vol.append(sim_vol)"
   ]
  },
  {
   "cell_type": "code",
   "execution_count": null,
   "id": "fca6c1f7",
   "metadata": {},
   "outputs": [],
   "source": [
    "len(mc_portfolio_returns)"
   ]
  },
  {
   "cell_type": "code",
   "execution_count": null,
   "id": "80b61dff",
   "metadata": {},
   "outputs": [],
   "source": [
    "mc_portfolio_returns"
   ]
  },
  {
   "cell_type": "code",
   "execution_count": null,
   "id": "e03efb46",
   "metadata": {},
   "outputs": [],
   "source": [
    "mc_sharp_ratios = np.array(mc_portfolio_returns)/mc_portfolio_vol"
   ]
  },
  {
   "cell_type": "code",
   "execution_count": null,
   "id": "e2192212",
   "metadata": {},
   "outputs": [],
   "source": [
    "max_sharpe_idx = np.argmax(mc_sharp_ratios)\n",
    "max_sharpe_return = mc_portfolio_returns[max_sharpe_idx]\n",
    "max_sharpe_volatility = mc_portfolio_vol[max_sharpe_idx]\n",
    "max_sharpe_weights = mc_weights[max_sharpe_idx]"
   ]
  },
  {
   "cell_type": "code",
   "execution_count": null,
   "id": "2da5a990",
   "metadata": {},
   "outputs": [],
   "source": [
    "print(\"Maximum Sharpe Ratio Portfolio Return:\", max_sharpe_return)\n",
    "print(\"Maximum Sharpe Ratio Portfolio Volatility:\", max_sharpe_volatility)\n",
    "print(\"Maximum Sharpe Ratio Portfolio Weights:\", max_sharpe_weights)\n",
    "\n",
    "# Scatterplot\n",
    "plt.scatter(mc_portfolio_vol, mc_portfolio_returns, c=mc_sharp_ratios, cmap='viridis')\n",
    "plt.colorbar(label='Sharpe Ratio')\n",
    "plt.xlabel('Volatility')\n",
    "plt.ylabel('Return')\n",
    "\n",
    "plt.scatter(max_sharpe_volatility, max_sharpe_return, c='red', marker='*', s=200)\n",
    "plt.title('Monte Carlo Simulation of Portfolio Optimization')\n",
    "plt.show()"
   ]
  },
  {
   "cell_type": "code",
   "execution_count": null,
   "id": "70626b06",
   "metadata": {},
   "outputs": [],
   "source": [
    "p_weights = max_sharpe_weights"
   ]
  },
  {
   "cell_type": "code",
   "execution_count": null,
   "id": "1723d606",
   "metadata": {},
   "outputs": [],
   "source": [
    "p_weights"
   ]
  },
  {
   "cell_type": "code",
   "execution_count": null,
   "id": "706b62fc",
   "metadata": {},
   "outputs": [],
   "source": [
    "values = p_weights\n",
    "labels = ['AAPL', 'MSFT', 'JPM', 'TSLA']\n",
    "colors = ['#ff9999','#66b3ff','#99ff99','#ffcc99']\n",
    "#explode = (0, 0, 0, 0)  # Only \"explode\" the 1st slice\n",
    "\n",
    "plt.pie(values, labels=labels, autopct='%1.1f%%', startangle=140, colors=colors)\n",
    "plt.title('Portfolio Holdings')\n",
    "plt.legend(title=\"Categories\", bbox_to_anchor=(0, 1))\n",
    "plt.show()"
   ]
  },
  {
   "cell_type": "code",
   "execution_count": null,
   "id": "0ae06a28",
   "metadata": {},
   "outputs": [],
   "source": [
    "cum_p_weighted_returns = np.dot(p_weights,Pure_Cum_Returns.transpose())"
   ]
  },
  {
   "cell_type": "code",
   "execution_count": null,
   "id": "65d2095d",
   "metadata": {},
   "outputs": [],
   "source": [
    "cum_p_weighted_returns_perc = cum_p_weighted_returns"
   ]
  },
  {
   "cell_type": "code",
   "execution_count": null,
   "id": "6891ea66",
   "metadata": {},
   "outputs": [],
   "source": [
    "cum_p_weighted_returns_perc"
   ]
  },
  {
   "cell_type": "code",
   "execution_count": null,
   "id": "00a70df3",
   "metadata": {},
   "outputs": [],
   "source": [
    "cpwrp_Fin = Pure_Cum_Returns.assign(cum_change=cum_p_weighted_returns_perc)"
   ]
  },
  {
   "cell_type": "code",
   "execution_count": null,
   "id": "6c1ee59c",
   "metadata": {},
   "outputs": [],
   "source": [
    "cpwrp_Fin"
   ]
  },
  {
   "cell_type": "code",
   "execution_count": null,
   "id": "8d0113c7",
   "metadata": {},
   "outputs": [],
   "source": [
    "fig, ax = plt.subplots(figsize=(10,5),dpi=200)\n",
    "\n",
    "ax.plot(cpwrp_Fin['AAPL'], label='AAPL')\n",
    "ax.plot(cpwrp_Fin['MSFT'], label='MSFT')\n",
    "ax.plot(cpwrp_Fin['JPM'], label='JPM')\n",
    "ax.plot(cpwrp_Fin['TSLA'], label='TSLA')\n",
    "ax.plot(cpwrp_Fin['cum_change'], label='Optimum weight')\n",
    "\n",
    "fig.patch.set_facecolor('#1e1e1e')\n",
    "\n",
    "ax.set_facecolor('#2b2b2b')\n",
    "ax.grid(color='gray', linestyle='--', linewidth=0.5)\n",
    "# Visual theme\n",
    "ax.spines['bottom'].set_color('white')\n",
    "ax.spines['top'].set_color('white')\n",
    "ax.spines['left'].set_color('white')\n",
    "ax.spines['right'].set_color('white')\n",
    "\n",
    "ax.tick_params(axis='x', colors='white')\n",
    "ax.tick_params(axis='y', colors='white')\n",
    "ax.set_xlabel('Time Series', color='white')\n",
    "ax.set_ylabel('Price', color='white')\n",
    "ax.set_title('Plotting Price Change Charts', color='white')\n",
    "\n",
    "legend = ax.legend()\n",
    "frame = legend.get_frame()\n",
    "frame.set_facecolor('#1e1e1e')  # Set the legend background color\n",
    "frame.set_edgecolor('white')  # Set the legend border color\n",
    "for text in legend.get_texts():\n",
    "    text.set_color('white')  # Set the legend text color\n",
    "\n",
    "# Ensure equal aspect ratio\n",
    "ax.axis('auto')\n",
    "\n",
    "plt.show()"
   ]
  },
  {
   "cell_type": "code",
   "execution_count": null,
   "id": "66c71ad8",
   "metadata": {
    "scrolled": true
   },
   "outputs": [],
   "source": [
    "print(cpwrp_Fin['AAPL'].std())\n",
    "print(cpwrp_Fin['MSFT'].std())\n",
    "print(cpwrp_Fin['JPM'].std())\n",
    "print(cpwrp_Fin['TSLA'].std())\n",
    "print(cpwrp_Fin['cum_change'].std())"
   ]
  },
  {
   "cell_type": "code",
   "execution_count": null,
   "id": "e1ec2898",
   "metadata": {},
   "outputs": [],
   "source": [
    "##############################################################################################################\n",
    "                          #\"\"\"\"           Check For 2023         \"\"\"#\n",
    "##############################################################################################################"
   ]
  },
  {
   "cell_type": "code",
   "execution_count": null,
   "id": "7ee8579c",
   "metadata": {},
   "outputs": [],
   "source": [
    "ticker_symbol = 'AAPL'\n",
    "stock_data = yf.download(ticker_symbol, start = '2023-01-01', end = '2023-12-31')\n",
    "AAPL = pd.DataFrame(stock_data)\n",
    "AAPL = AAPL.drop(columns=['Volume','Open', 'High', 'Low', 'Close'])\n",
    "\n",
    "ticker_symbol = 'MSFT'\n",
    "stock_data = yf.download(ticker_symbol, start = '2023-01-01', end = '2023-12-31')\n",
    "MSFT = pd.DataFrame(stock_data)\n",
    "MSFT = MSFT.drop(columns=['Volume','Open', 'High', 'Low', 'Close'])\n",
    "\n",
    "ticker_symbol = 'JPM'\n",
    "stock_data = yf.download(ticker_symbol, start = '2023-01-01', end = '2023-12-31')\n",
    "JPM = pd.DataFrame(stock_data)\n",
    "JPM = JPM.drop(columns=['Volume','Open', 'High', 'Low', 'Close'])\n",
    "\n",
    "ticker_symbol = 'TSLA'\n",
    "stock_data = yf.download(ticker_symbol, start = '2023-01-01', end = '2023-12-31')\n",
    "TSLA = pd.DataFrame(stock_data)\n",
    "TSLA = TSLA.drop(columns=['Volume','Open', 'High', 'Low', 'Close'])"
   ]
  },
  {
   "cell_type": "code",
   "execution_count": null,
   "id": "cae6eca3",
   "metadata": {},
   "outputs": [],
   "source": [
    "AAPL"
   ]
  },
  {
   "cell_type": "code",
   "execution_count": null,
   "id": "98238972",
   "metadata": {},
   "outputs": [],
   "source": [
    "AAPL['Percentage Change'] = AAPL['Adj Close'].pct_change()\n",
    "AAPL['Cumulative Percentage Change'] = AAPL['Percentage Change'].cumsum()\n",
    "\n",
    "MSFT['Percentage Change'] = MSFT['Adj Close'].pct_change()\n",
    "MSFT['Cumulative Percentage Change'] = MSFT['Percentage Change'].cumsum()\n",
    "\n",
    "JPM['Percentage Change'] = JPM['Adj Close'].pct_change()\n",
    "JPM['Cumulative Percentage Change'] = JPM['Percentage Change'].cumsum()\n",
    "\n",
    "TSLA['Percentage Change'] = TSLA['Adj Close'].pct_change()\n",
    "TSLA['Cumulative Percentage Change'] = TSLA['Percentage Change'].cumsum()"
   ]
  },
  {
   "cell_type": "code",
   "execution_count": null,
   "id": "fd2a7048",
   "metadata": {},
   "outputs": [],
   "source": [
    "AAPL = AAPL.dropna()\n",
    "MSFT = MSFT.dropna()\n",
    "JPM = JPM.dropna()\n",
    "TSLA = TSLA.dropna()"
   ]
  },
  {
   "cell_type": "code",
   "execution_count": null,
   "id": "00c2a569",
   "metadata": {},
   "outputs": [],
   "source": [
    "fig, ax = plt.subplots(figsize=(10,5),dpi=200)\n",
    "\n",
    "ax.plot(AAPL['Cumulative Percentage Change'], label='AAPL')\n",
    "ax.plot(MSFT['Cumulative Percentage Change'], label='MSFT')\n",
    "ax.plot(JPM['Cumulative Percentage Change'], label='JPM')\n",
    "ax.plot(TSLA['Cumulative Percentage Change'], label='TSLA')\n",
    "\n",
    "\n",
    "# Customize the background color of the figure and axis\n",
    "fig.patch.set_facecolor('#1e1e1e')\n",
    "ax.set_facecolor('#2b2b2b')\n",
    "\n",
    "# Customize the gridlines\n",
    "ax.grid(color='gray', linestyle='--', linewidth=0.5)\n",
    "\n",
    "# Customize the spines (axis borders)\n",
    "ax.spines['bottom'].set_color('white')\n",
    "ax.spines['top'].set_color('white')\n",
    "ax.spines['left'].set_color('white')\n",
    "ax.spines['right'].set_color('white')\n",
    "\n",
    "# Customize the ticks\n",
    "ax.tick_params(axis='x', colors='white')\n",
    "ax.tick_params(axis='y', colors='white')\n",
    "\n",
    "# Customize the labels and title\n",
    "ax.set_xlabel('Time Series', color='white')\n",
    "ax.set_ylabel('Price', color='white')\n",
    "ax.set_title('Plotting Price Change Charts', color='white')\n",
    "\n",
    "# Customize the legend\n",
    "legend = ax.legend()\n",
    "frame = legend.get_frame()\n",
    "frame.set_facecolor('#1e1e1e')  # Set the legend background color\n",
    "frame.set_edgecolor('white')  # Set the legend border color\n",
    "for text in legend.get_texts():\n",
    "    text.set_color('white')  # Set the legend text color\n",
    "\n",
    "# Ensure equal aspect ratio\n",
    "ax.axis('auto')\n",
    "\n",
    "plt.show()"
   ]
  },
  {
   "cell_type": "code",
   "execution_count": null,
   "id": "ebbf302a",
   "metadata": {},
   "outputs": [],
   "source": [
    "company_returns = pd.concat([AAPL['Cumulative Percentage Change'],MSFT['Cumulative Percentage Change'],JPM['Cumulative Percentage Change'],TSLA['Cumulative Percentage Change']],axis=1)\n",
    "company_returns.columns = ['AAPL','MSFT','JPM','TSLA']"
   ]
  },
  {
   "cell_type": "code",
   "execution_count": null,
   "id": "a6b547a6",
   "metadata": {},
   "outputs": [],
   "source": [
    "company_returns"
   ]
  },
  {
   "cell_type": "code",
   "execution_count": null,
   "id": "0340d953",
   "metadata": {},
   "outputs": [],
   "source": [
    "company_returns['AAPL'] = company_returns['AAPL'] * 100\n",
    "company_returns['MSFT'] = company_returns['MSFT'] * 100\n",
    "company_returns['JPM'] = company_returns['JPM'] * 100\n",
    "company_returns['TSLA'] = company_returns['TSLA'] * 100"
   ]
  },
  {
   "cell_type": "code",
   "execution_count": null,
   "id": "c744fb47",
   "metadata": {},
   "outputs": [],
   "source": [
    "p_weights #= [0.02881366, 0.14686726, 0.81186321, 0.01245586]"
   ]
  },
  {
   "cell_type": "code",
   "execution_count": null,
   "id": "18389f7b",
   "metadata": {},
   "outputs": [],
   "source": [
    "cum_p_weighted_returns = np.dot(p_weights,company_returns.transpose())"
   ]
  },
  {
   "cell_type": "code",
   "execution_count": null,
   "id": "497bc5fd",
   "metadata": {},
   "outputs": [],
   "source": [
    "cum_p_weighted_returns"
   ]
  },
  {
   "cell_type": "code",
   "execution_count": null,
   "id": "b487d7d1",
   "metadata": {},
   "outputs": [],
   "source": [
    "cpwrp_Fin = company_returns.assign(cum_change=cum_p_weighted_returns)"
   ]
  },
  {
   "cell_type": "code",
   "execution_count": null,
   "id": "76c937c3",
   "metadata": {
    "scrolled": true
   },
   "outputs": [],
   "source": [
    "fig, ax = plt.subplots(figsize=(10,5),dpi=200)\n",
    "\n",
    "ax.plot(cpwrp_Fin['cum_change'], label='Portfolio Change')\n",
    "\n",
    "# Customize the background color of the figure and axis\n",
    "fig.patch.set_facecolor('#1e1e1e')\n",
    "ax.set_facecolor('#2b2b2b')\n",
    "\n",
    "# Customize the gridlines\n",
    "ax.grid(color='gray', linestyle='--', linewidth=0.5)\n",
    "\n",
    "# Customize the spines (axis borders)\n",
    "ax.spines['bottom'].set_color('white')\n",
    "ax.spines['top'].set_color('white')\n",
    "ax.spines['left'].set_color('white')\n",
    "ax.spines['right'].set_color('white')\n",
    "\n",
    "# Customize the ticks\n",
    "ax.tick_params(axis='x', colors='white')\n",
    "ax.tick_params(axis='y', colors='white')\n",
    "\n",
    "# Customize the labels and title\n",
    "ax.set_xlabel('Time Series', color='white')\n",
    "ax.set_ylabel('Price Percentage', color='white')\n",
    "ax.set_title('Portfolio Change', color='white')\n",
    "\n",
    "# Customize the legend\n",
    "legend = ax.legend()\n",
    "frame = legend.get_frame()\n",
    "frame.set_facecolor('#1e1e1e')  # Set the legend background color\n",
    "frame.set_edgecolor('white')  # Set the legend border color\n",
    "for text in legend.get_texts():\n",
    "    text.set_color('white')  # Set the legend text color\n",
    "\n",
    "# Ensure equal aspect ratio\n",
    "ax.axis('auto')\n",
    "\n",
    "plt.show()"
   ]
  },
  {
   "cell_type": "code",
   "execution_count": null,
   "id": "ca05f04e",
   "metadata": {},
   "outputs": [],
   "source": [
    "fig, ax = plt.subplots(figsize=(7,5),dpi=200)\n",
    "\n",
    "ax.plot(company_returns['AAPL'], label='AAPL')\n",
    "ax.plot(cpwrp_Fin['cum_change'], label='Portfolio Change')\n",
    "\n",
    "# Customize the background color of the figure and axis\n",
    "fig.patch.set_facecolor('#1e1e1e')\n",
    "ax.set_facecolor('#2b2b2b')\n",
    "\n",
    "# Customize the gridlines\n",
    "ax.grid(color='gray', linestyle='--', linewidth=0.5)\n",
    "\n",
    "# Customize the spines (axis borders)\n",
    "ax.spines['bottom'].set_color('white')\n",
    "ax.spines['top'].set_color('white')\n",
    "ax.spines['left'].set_color('white')\n",
    "ax.spines['right'].set_color('white')\n",
    "\n",
    "# Customize the ticks\n",
    "ax.tick_params(axis='x', colors='white')\n",
    "ax.tick_params(axis='y', colors='white')\n",
    "\n",
    "# Customize the labels and title\n",
    "ax.set_xlabel('Time Series', color='white')\n",
    "ax.set_ylabel('Price Percentage', color='white')\n",
    "ax.set_title('Portfolio Change', color='white')\n",
    "\n",
    "# Customize the legend\n",
    "legend = ax.legend()\n",
    "frame = legend.get_frame()\n",
    "frame.set_facecolor('#1e1e1e')  # Set the legend background color\n",
    "frame.set_edgecolor('white')  # Set the legend border color\n",
    "for text in legend.get_texts():\n",
    "    text.set_color('white')  # Set the legend text color\n",
    "\n",
    "# Ensure equal aspect ratio\n",
    "ax.axis('auto')\n",
    "\n",
    "plt.show()"
   ]
  },
  {
   "cell_type": "code",
   "execution_count": null,
   "id": "f3e335c4",
   "metadata": {},
   "outputs": [],
   "source": [
    "fig, ax = plt.subplots(figsize=(7,5),dpi=200)\n",
    "\n",
    "ax.plot(company_returns['MSFT'], label='MSFT')\n",
    "ax.plot(cpwrp_Fin['cum_change'], label='Portfolio Change')\n",
    "\n",
    "# Customize the background color of the figure and axis\n",
    "fig.patch.set_facecolor('#1e1e1e')\n",
    "ax.set_facecolor('#2b2b2b')\n",
    "\n",
    "# Customize the gridlines\n",
    "ax.grid(color='gray', linestyle='--', linewidth=0.5)\n",
    "\n",
    "# Customize the spines (axis borders)\n",
    "ax.spines['bottom'].set_color('white')\n",
    "ax.spines['top'].set_color('white')\n",
    "ax.spines['left'].set_color('white')\n",
    "ax.spines['right'].set_color('white')\n",
    "\n",
    "# Customize the ticks\n",
    "ax.tick_params(axis='x', colors='white')\n",
    "ax.tick_params(axis='y', colors='white')\n",
    "\n",
    "# Customize the labels and title\n",
    "ax.set_xlabel('Time Series', color='white')\n",
    "ax.set_ylabel('Price Percentage', color='white')\n",
    "ax.set_title('Portfolio Change', color='white')\n",
    "\n",
    "# Customize the legend\n",
    "legend = ax.legend()\n",
    "frame = legend.get_frame()\n",
    "frame.set_facecolor('#1e1e1e')  # Set the legend background color\n",
    "frame.set_edgecolor('white')  # Set the legend border color\n",
    "for text in legend.get_texts():\n",
    "    text.set_color('white')  # Set the legend text color\n",
    "\n",
    "# Ensure equal aspect ratio\n",
    "ax.axis('auto')\n",
    "\n",
    "plt.show()"
   ]
  },
  {
   "cell_type": "code",
   "execution_count": null,
   "id": "9ba58b2e",
   "metadata": {},
   "outputs": [],
   "source": [
    "fig, ax = plt.subplots(figsize=(7,5),dpi=200)\n",
    "\n",
    "ax.plot(company_returns['JPM'], label='JPM')\n",
    "ax.plot(cpwrp_Fin['cum_change'], label='Portfolio Change')\n",
    "\n",
    "# Customize the background color of the figure and axis\n",
    "fig.patch.set_facecolor('#1e1e1e')\n",
    "ax.set_facecolor('#2b2b2b')\n",
    "\n",
    "# Customize the gridlines\n",
    "ax.grid(color='gray', linestyle='--', linewidth=0.5)\n",
    "\n",
    "# Customize the spines (axis borders)\n",
    "ax.spines['bottom'].set_color('white')\n",
    "ax.spines['top'].set_color('white')\n",
    "ax.spines['left'].set_color('white')\n",
    "ax.spines['right'].set_color('white')\n",
    "\n",
    "# Customize the ticks\n",
    "ax.tick_params(axis='x', colors='white')\n",
    "ax.tick_params(axis='y', colors='white')\n",
    "\n",
    "# Customize the labels and title\n",
    "ax.set_xlabel('Time Series', color='white')\n",
    "ax.set_ylabel('Price Percentage', color='white')\n",
    "ax.set_title('Portfolio Change', color='white')\n",
    "\n",
    "# Customize the legend\n",
    "legend = ax.legend()\n",
    "frame = legend.get_frame()\n",
    "frame.set_facecolor('#1e1e1e')  # Set the legend background color\n",
    "frame.set_edgecolor('white')  # Set the legend border color\n",
    "for text in legend.get_texts():\n",
    "    text.set_color('white')  # Set the legend text color\n",
    "\n",
    "# Ensure equal aspect ratio\n",
    "ax.axis('auto')\n",
    "\n",
    "plt.show()"
   ]
  },
  {
   "cell_type": "code",
   "execution_count": null,
   "id": "2f5d1494",
   "metadata": {},
   "outputs": [],
   "source": [
    "fig, ax = plt.subplots(figsize=(7,5),dpi=200)\n",
    "\n",
    "ax.plot(company_returns['TSLA'], label='TSLA')\n",
    "ax.plot(cpwrp_Fin['cum_change'], label='Portfolio Change')\n",
    "\n",
    "# Customize the background color of the figure and axis\n",
    "fig.patch.set_facecolor('#1e1e1e')\n",
    "ax.set_facecolor('#2b2b2b')\n",
    "\n",
    "# Customize the gridlines\n",
    "ax.grid(color='gray', linestyle='--', linewidth=0.5)\n",
    "\n",
    "# Customize the spines (axis borders)\n",
    "ax.spines['bottom'].set_color('white')\n",
    "ax.spines['top'].set_color('white')\n",
    "ax.spines['left'].set_color('white')\n",
    "ax.spines['right'].set_color('white')\n",
    "\n",
    "# Customize the ticks\n",
    "ax.tick_params(axis='x', colors='white')\n",
    "ax.tick_params(axis='y', colors='white')\n",
    "\n",
    "# Customize the labels and title\n",
    "ax.set_xlabel('Time Series', color='white')\n",
    "ax.set_ylabel('Price Percentage', color='white')\n",
    "ax.set_title('Portfolio Change', color='white')\n",
    "\n",
    "# Customize the legend\n",
    "legend = ax.legend()\n",
    "frame = legend.get_frame()\n",
    "frame.set_facecolor('#1e1e1e')  # Set the legend background color\n",
    "frame.set_edgecolor('white')  # Set the legend border color\n",
    "for text in legend.get_texts():\n",
    "    text.set_color('white')  # Set the legend text color\n",
    "\n",
    "# Ensure equal aspect ratio\n",
    "ax.axis('auto')\n",
    "\n",
    "plt.show()"
   ]
  },
  {
   "cell_type": "code",
   "execution_count": null,
   "id": "6e11fd23",
   "metadata": {},
   "outputs": [],
   "source": [
    "cpwrp_Fin"
   ]
  },
  {
   "cell_type": "code",
   "execution_count": null,
   "id": "30a5cb43",
   "metadata": {},
   "outputs": [],
   "source": [
    "print(cpwrp_Fin['AAPL'].std())\n",
    "print(cpwrp_Fin['MSFT'].std())\n",
    "print(cpwrp_Fin['JPM'].std())\n",
    "print(cpwrp_Fin['TSLA'].std())\n",
    "print(cpwrp_Fin['cum_change'].std())"
   ]
  },
  {
   "cell_type": "code",
   "execution_count": null,
   "id": "ee427e5b",
   "metadata": {},
   "outputs": [],
   "source": []
  }
 ],
 "metadata": {
  "kernelspec": {
   "display_name": "Python 3 (ipykernel)",
   "language": "python",
   "name": "python3"
  },
  "language_info": {
   "codemirror_mode": {
    "name": "ipython",
    "version": 3
   },
   "file_extension": ".py",
   "mimetype": "text/x-python",
   "name": "python",
   "nbconvert_exporter": "python",
   "pygments_lexer": "ipython3",
   "version": "3.11.4"
  }
 },
 "nbformat": 4,
 "nbformat_minor": 5
}
